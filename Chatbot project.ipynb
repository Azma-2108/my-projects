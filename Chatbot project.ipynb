{
 "cells": [
  {
   "cell_type": "code",
   "execution_count": 2,
   "id": "b03d7b81",
   "metadata": {},
   "outputs": [
    {
     "name": "stdout",
     "output_type": "stream",
     "text": [
      "Hi there! I'm your chatbot. Ask me anything or type 'exit' to end the conversation.\n",
      "User: how are you?\n",
      "Chatbot: I'm functioning well, thank you for asking!\n",
      "User: can you help me?\n",
      "Chatbot: I'm here to help. What do you need?\n",
      "User: tell me a joke\n",
      "Chatbot: Why don't scientists trust atoms? Because they make up everything!\n",
      "Chatbot: That's all for now. If you have more questions, feel free to ask!\n"
     ]
    }
   ],
   "source": [
    "import random\n",
    "\n",
    "# Function to greet the user\n",
    "def greet_user():\n",
    "    return \"Hi there! I'm your chatbot. Ask me anything or type 'exit' to end the conversation.\"\n",
    "\n",
    "# Responses for various types of questions\n",
    "responses = {\n",
    "    \"what's your purpose?\": [\n",
    "        \"I'm here to assist you with information and have a friendly chat!\",\n",
    "        \"My purpose is to help answer your questions and make conversations fun.\"\n",
    "    ],\n",
    "    \"tell me a joke\": [\n",
    "        \"Why don't scientists trust atoms? Because they make up everything!\",\n",
    "        \"Did you hear about the mathematician who’s afraid of negative numbers? He’ll stop at nothing to avoid them!\"\n",
    "    ],\n",
    "    \"can you help me?\": [\n",
    "        \"Of course! I'll do my best to assist you.\",\n",
    "        \"I'm here to help. What do you need?\"\n",
    "    ],\n",
    "    \"how are you?\": [\n",
    "        \"I'm functioning well, thank you for asking!\",\n",
    "        \"I'm a chatbot, so I'm always ready to chat!\"\n",
    "    ],\n",
    "    \"random\": [\n",
    "        \"That's an interesting question!\",\n",
    "        \"Let me think about that for a moment.\"\n",
    "    ]\n",
    "}\n",
    "\n",
    "# Function to handle user input\n",
    "def respond(user_input):\n",
    "    user_input = user_input.lower()  # Convert input to lowercase for case-insensitive matching\n",
    "    \n",
    "    # Check if user input matches any predefined question\n",
    "    if user_input in responses:\n",
    "        return random.choice(responses[user_input])  # Select a random response for the question\n",
    "    else:\n",
    "        return \"I'm not sure how to respond to that. Can you ask something else?\"  # Default response for unknown questions\n",
    "\n",
    "# Function for conversation flow\n",
    "def start_conversation():\n",
    "    print(greet_user())\n",
    "\n",
    "    # Conversation flow with three questions\n",
    "    questions = [\"What can I help you with today?\", \"Do you have any specific questions?\", \"How can I assist you further?\"]\n",
    "    for question in questions:\n",
    "        user_input = input(\"User: \")\n",
    "        if user_input.lower() == 'exit':\n",
    "            print(\"Chatbot: Thanks for chatting! Goodbye.\")\n",
    "            return\n",
    "        print(\"Chatbot:\", respond(user_input))\n",
    "    print(\"Chatbot: That's all for now. If you have more questions, feel free to ask!\")\n",
    "\n",
    "# Starting the conversation\n",
    "start_conversation()\n"
   ]
  },
  {
   "cell_type": "code",
   "execution_count": null,
   "id": "63ef0a8f",
   "metadata": {},
   "outputs": [],
   "source": []
  },
  {
   "cell_type": "code",
   "execution_count": null,
   "id": "7ff3e9c9",
   "metadata": {},
   "outputs": [],
   "source": []
  },
  {
   "cell_type": "markdown",
   "id": "aab7a927",
   "metadata": {},
   "source": [
    "#  EXPLANATION"
   ]
  },
  {
   "cell_type": "markdown",
   "id": "8d0ea71a",
   "metadata": {},
   "source": [
    "\n",
    "\n",
    "\n",
    "The code provided is a Python script that simulates a basic chatbot interaction. It's designed to engage in a conversation with a user by responding to their input based on predefined questions and generating appropriate replies.\n",
    "\n",
    "The script contains several functions:\n",
    "\n",
    "greet_user(): This function generates an initial greeting message for the user, welcoming them to the chatbot conversation.\n",
    "\n",
    "respond(user_input): This function processes the user's input, converting it to lowercase for easier matching, and selects an appropriate response based on predefined questions stored in the responses dictionary. If the input matches a predefined question, it randomly chooses a response from the corresponding list. If the input doesn’t match any predefined question, it provides a default response indicating uncertainty.\n",
    "\n",
    "start_conversation(): This function initiates the conversation flow. It begins by displaying the greeting message, then proceeds with a flow of three questions that the chatbot asks the user. After each question, it awaits the user's input and responds accordingly. If the user inputs 'exit', the conversation ends with a farewell message.\n",
    "\n",
    "The code employs a simple loop structure to facilitate the conversation flow, allowing the chatbot to ask predetermined questions and handle user input through the respond() function.\n",
    "\n"
   ]
  }
 ],
 "metadata": {
  "kernelspec": {
   "display_name": "Python 3 (ipykernel)",
   "language": "python",
   "name": "python3"
  },
  "language_info": {
   "codemirror_mode": {
    "name": "ipython",
    "version": 3
   },
   "file_extension": ".py",
   "mimetype": "text/x-python",
   "name": "python",
   "nbconvert_exporter": "python",
   "pygments_lexer": "ipython3",
   "version": "3.10.9"
  }
 },
 "nbformat": 4,
 "nbformat_minor": 5
}
